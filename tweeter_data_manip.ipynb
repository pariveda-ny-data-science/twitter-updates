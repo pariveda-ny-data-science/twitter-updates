{
 "cells": [
  {
   "cell_type": "code",
   "execution_count": 30,
   "metadata": {},
   "outputs": [],
   "source": [
    "import pandas as pd\n",
    "from slackclient import SlackClient\n",
    "from config import config"
   ]
  },
  {
   "cell_type": "code",
   "execution_count": 31,
   "metadata": {},
   "outputs": [],
   "source": [
    "slack = config(section='slack')"
   ]
  },
  {
   "cell_type": "code",
   "execution_count": 32,
   "metadata": {},
   "outputs": [],
   "source": [
    "sc = SlackClient(slack['token'])"
   ]
  },
  {
   "cell_type": "code",
   "execution_count": 33,
   "metadata": {},
   "outputs": [],
   "source": [
    "df_azure = pd.read_csv('df_azure.csv')\n",
    "df_aws = pd.read_csv('df_aws.csv')\n",
    "df_gcp = pd.read_csv('df_gcp.csv')"
   ]
  },
  {
   "cell_type": "code",
   "execution_count": 34,
   "metadata": {},
   "outputs": [],
   "source": [
    "def removeTextDuplicatesFromDataFrameAndReturnTopTweet(df):   \n",
    "    df = df.sort_values('followers_count', ascending=False)\n",
    "    df = df.drop_duplicates(subset='text', keep='first')\n",
    "    df = df.sort_values('retweet_count', ascending=False).head()\n",
    "    df = df.reset_index(drop = True)\n",
    "    return df"
   ]
  },
  {
   "cell_type": "code",
   "execution_count": 35,
   "metadata": {},
   "outputs": [],
   "source": [
    "def constructTwitterLink(tweet):\n",
    "    link = 'https://twitter.com/{}/status/{}'.format(tweet['screen_name'], tweet['id'])\n",
    "    return link"
   ]
  },
  {
   "cell_type": "markdown",
   "metadata": {},
   "source": [
    "Code that I used to check if the google tweet was relevant, not needed anymore since updating twitter search\n",
    "```def checkGoogleTweet(df):\n",
    "    g = False\n",
    "    while g == False:\n",
    "        if 'Google' in df.text[0].tex or 'google' in df.text[0] or 'cloud' in df.text[0]:\n",
    "            g = True;\n",
    "        else:\n",
    "            df = df.drop(index = 0)\n",
    "            df = df.reset_index(drop = True)\n",
    "    return df```"
   ]
  },
  {
   "cell_type": "code",
   "execution_count": 24,
   "metadata": {},
   "outputs": [],
   "source": [
    "top_azure_tweets = removeTextDuplicatesFromDataFrameAndReturnTopTweet(df_azure)"
   ]
  },
  {
   "cell_type": "code",
   "execution_count": 25,
   "metadata": {},
   "outputs": [],
   "source": [
    "top_aws_tweets = removeTextDuplicatesFromDataFrameAndReturnTopTweet(df_aws)"
   ]
  },
  {
   "cell_type": "code",
   "execution_count": 37,
   "metadata": {},
   "outputs": [],
   "source": [
    "top_gcp_tweets = removeTextDuplicatesFromDataFrameAndReturnTopTweet(df_gcp)"
   ]
  },
  {
   "cell_type": "code",
   "execution_count": 38,
   "metadata": {},
   "outputs": [],
   "source": [
    "#top_gcp_tweets = checkGoogleTweet(top_gcp_tweets)"
   ]
  },
  {
   "cell_type": "code",
   "execution_count": 39,
   "metadata": {},
   "outputs": [],
   "source": [
    "topAzureTwitterURL = constructTwitterLink(top_azure_tweets.loc[0])\n",
    "topAWSTwitterURL = constructTwitterLink(top_aws_tweets.loc[0])\n",
    "topGCPTwitterURL = constructTwitterLink(top_gcp_tweets.loc[0])"
   ]
  },
  {
   "cell_type": "markdown",
   "metadata": {},
   "source": [
    "https://github.com/slackapi/python-slackclient\n",
    "<br>https://api.slack.com/custom-integrations/legacy-tokens\n",
    "<br> Jonathan Reshef Id - UA4RMPMU7\n",
    "<br> ml_twitter_updates channel Id - GHWQ9P8GM\n",
    "<br> Delete messages: \n",
    "<br>sc.api_call(\n",
    "  \"chat.delete\",\n",
    "  channel=\"GHWQ9P8GM\",\n",
    "  ts='1555357902.000300'\n",
    ")\n",
    "<br>\n",
    "<br>See channel history:\n",
    "<br> sc.api_call(\n",
    "  \"conversations.history\",\n",
    "  channel=\"GHWQ9P8GM\",\n",
    ")"
   ]
  },
  {
   "cell_type": "code",
   "execution_count": 13,
   "metadata": {
    "scrolled": true
   },
   "outputs": [
    {
     "data": {
      "text/plain": [
       "{'ok': True,\n",
       " 'channel': 'GHWQ9P8GM',\n",
       " 'ts': '1555430250.000400',\n",
       " 'message': {'type': 'message',\n",
       "  'subtype': 'bot_message',\n",
       "  'text': 'Here are todays updates on AWS, Azure, and GCP:',\n",
       "  'ts': '1555430250.000400',\n",
       "  'username': 'Twitter Update',\n",
       "  'icons': {'image_48': 'https://s3-us-west-2.amazonaws.com/slack-files2/bot_icons/2019-04-15/608351148116_48.png'},\n",
       "  'bot_id': 'BHW8EU6G4'},\n",
       " 'headers': {'Content-Type': 'application/json; charset=utf-8',\n",
       "  'Content-Length': '275',\n",
       "  'Connection': 'keep-alive',\n",
       "  'Date': 'Tue, 16 Apr 2019 15:57:30 GMT',\n",
       "  'Server': 'Apache',\n",
       "  'X-Content-Type-Options': 'nosniff',\n",
       "  'X-Slack-Req-Id': 'e3e7965b-cd7e-4104-b7ef-7be06e095d28',\n",
       "  'X-OAuth-Scopes': 'identify,read,post,client,apps',\n",
       "  'Expires': 'Mon, 26 Jul 1997 05:00:00 GMT',\n",
       "  'Cache-Control': 'private, no-cache, no-store, must-revalidate',\n",
       "  'Access-Control-Expose-Headers': 'x-slack-req-id',\n",
       "  'X-XSS-Protection': '0',\n",
       "  'X-Accepted-OAuth-Scopes': 'chat:write:bot,post',\n",
       "  'Vary': 'Accept-Encoding',\n",
       "  'Pragma': 'no-cache',\n",
       "  'Access-Control-Allow-Headers': 'slack-route, x-slack-version-ts',\n",
       "  'Strict-Transport-Security': 'max-age=31536000; includeSubDomains; preload',\n",
       "  'Referrer-Policy': 'no-referrer',\n",
       "  'Content-Encoding': 'gzip',\n",
       "  'Access-Control-Allow-Origin': '*',\n",
       "  'X-Via': 'haproxy-www-2t5y',\n",
       "  'X-Cache': 'Miss from cloudfront',\n",
       "  'Via': '1.1 325d03085430e8fa793924353b3b665b.cloudfront.net (CloudFront)',\n",
       "  'X-Amz-Cf-Id': '_mI-j79C4SCggqjjgNdrZk0JwB8monr927M8UdVadHJZZpzf_pqPGw=='}}"
      ]
     },
     "execution_count": 13,
     "metadata": {},
     "output_type": "execute_result"
    }
   ],
   "source": [
    "sc.api_call(\n",
    "  \"chat.postMessage\",\n",
    "  username = \"Twitter Update\",\n",
    "  icon_url =\"https://thumbs.dreamstime.com/z/news-cartoon-12412446.jpg\",\n",
    "  channel=\"GHWQ9P8GM\",\n",
    "  as_user = False,\n",
    "  text=\"Here are todays updates on AWS, Azure, and GCP:\"\n",
    ")"
   ]
  },
  {
   "cell_type": "code",
   "execution_count": 14,
   "metadata": {
    "scrolled": true
   },
   "outputs": [
    {
     "data": {
      "text/plain": [
       "{'ok': True,\n",
       " 'channel': 'GHWQ9P8GM',\n",
       " 'ts': '1555430251.000500',\n",
       " 'message': {'type': 'message',\n",
       "  'subtype': 'bot_message',\n",
       "  'text': '<https://twitter.com/DevHighlights/status/1117140437238734849>',\n",
       "  'ts': '1555430251.000500',\n",
       "  'username': 'Twitter Update',\n",
       "  'icons': {'image_48': 'https://s3-us-west-2.amazonaws.com/slack-files2/bot_icons/2019-04-15/608351148116_48.png'},\n",
       "  'bot_id': 'BHW8EU6G4'},\n",
       " 'headers': {'Content-Type': 'application/json; charset=utf-8',\n",
       "  'Content-Length': '283',\n",
       "  'Connection': 'keep-alive',\n",
       "  'Date': 'Tue, 16 Apr 2019 15:57:31 GMT',\n",
       "  'Server': 'Apache',\n",
       "  'X-Content-Type-Options': 'nosniff',\n",
       "  'X-Slack-Req-Id': 'b2d88def-6f58-4be0-b535-7359119514db',\n",
       "  'X-OAuth-Scopes': 'identify,read,post,client,apps',\n",
       "  'Expires': 'Mon, 26 Jul 1997 05:00:00 GMT',\n",
       "  'Cache-Control': 'private, no-cache, no-store, must-revalidate',\n",
       "  'Access-Control-Expose-Headers': 'x-slack-req-id',\n",
       "  'X-XSS-Protection': '0',\n",
       "  'X-Accepted-OAuth-Scopes': 'chat:write:bot,post',\n",
       "  'Vary': 'Accept-Encoding',\n",
       "  'Pragma': 'no-cache',\n",
       "  'Access-Control-Allow-Headers': 'slack-route, x-slack-version-ts',\n",
       "  'Strict-Transport-Security': 'max-age=31536000; includeSubDomains; preload',\n",
       "  'Referrer-Policy': 'no-referrer',\n",
       "  'Content-Encoding': 'gzip',\n",
       "  'Access-Control-Allow-Origin': '*',\n",
       "  'X-Via': 'haproxy-www-iyp4',\n",
       "  'X-Cache': 'Miss from cloudfront',\n",
       "  'Via': '1.1 8ad5a9cbb864898c238f716c1a12623d.cloudfront.net (CloudFront)',\n",
       "  'X-Amz-Cf-Id': 'lrNdwipolt8L-Qfa1NRSdiIYbNj9Ra9e99Qc_urKUlaF_zNhW4LIXg=='}}"
      ]
     },
     "execution_count": 14,
     "metadata": {},
     "output_type": "execute_result"
    }
   ],
   "source": [
    "sc.api_call(\n",
    "  \"chat.postMessage\",\n",
    "  channel=\"GHWQ9P8GM\",\n",
    "  username = \"Twitter Update\",\n",
    "  icon_url ='https://thumbs.dreamstime.com/z/news-cartoon-12412446.jpg',\n",
    "  as_user = False,\n",
    "  text=topAWSTwitterURL\n",
    ")"
   ]
  },
  {
   "cell_type": "code",
   "execution_count": 15,
   "metadata": {
    "scrolled": true
   },
   "outputs": [
    {
     "data": {
      "text/plain": [
       "{'ok': True,\n",
       " 'channel': 'GHWQ9P8GM',\n",
       " 'ts': '1555430252.000700',\n",
       " 'message': {'type': 'message',\n",
       "  'subtype': 'bot_message',\n",
       "  'text': '<https://twitter.com/seovalencia/status/1117321841088106496>',\n",
       "  'ts': '1555430252.000700',\n",
       "  'username': 'Twitter Update',\n",
       "  'icons': {'image_48': 'https://s3-us-west-2.amazonaws.com/slack-files2/bot_icons/2019-04-15/608351148116_48.png'},\n",
       "  'bot_id': 'BHW8EU6G4'},\n",
       " 'headers': {'Content-Type': 'application/json; charset=utf-8',\n",
       "  'Content-Length': '280',\n",
       "  'Connection': 'keep-alive',\n",
       "  'Date': 'Tue, 16 Apr 2019 15:57:32 GMT',\n",
       "  'Server': 'Apache',\n",
       "  'X-Content-Type-Options': 'nosniff',\n",
       "  'X-Slack-Req-Id': '595510c1-63a6-42b5-84c7-f8de7700e014',\n",
       "  'X-OAuth-Scopes': 'identify,read,post,client,apps',\n",
       "  'Expires': 'Mon, 26 Jul 1997 05:00:00 GMT',\n",
       "  'Cache-Control': 'private, no-cache, no-store, must-revalidate',\n",
       "  'Access-Control-Expose-Headers': 'x-slack-req-id',\n",
       "  'X-XSS-Protection': '0',\n",
       "  'X-Accepted-OAuth-Scopes': 'chat:write:bot,post',\n",
       "  'Vary': 'Accept-Encoding',\n",
       "  'Pragma': 'no-cache',\n",
       "  'Access-Control-Allow-Headers': 'slack-route, x-slack-version-ts',\n",
       "  'Strict-Transport-Security': 'max-age=31536000; includeSubDomains; preload',\n",
       "  'Referrer-Policy': 'no-referrer',\n",
       "  'Content-Encoding': 'gzip',\n",
       "  'Access-Control-Allow-Origin': '*',\n",
       "  'X-Via': 'haproxy-www-teh6',\n",
       "  'X-Cache': 'Miss from cloudfront',\n",
       "  'Via': '1.1 9742923607374c982a5b7e9258144eab.cloudfront.net (CloudFront)',\n",
       "  'X-Amz-Cf-Id': '6a9UzxSr-ib87RfBzwLGyJqHNP9nrHtTz87syMdgv8hFnAZ2Oap8Aw=='}}"
      ]
     },
     "execution_count": 15,
     "metadata": {},
     "output_type": "execute_result"
    }
   ],
   "source": [
    "sc.api_call(\n",
    "  \"chat.postMessage\",\n",
    "  channel=\"GHWQ9P8GM\",\n",
    "  username = \"Twitter Update\",\n",
    "  icon_url ='https://thumbs.dreamstime.com/z/news-cartoon-12412446.jpg',\n",
    "  text=topAzureTwitterURL\n",
    ")"
   ]
  },
  {
   "cell_type": "code",
   "execution_count": 40,
   "metadata": {
    "scrolled": true
   },
   "outputs": [
    {
     "data": {
      "text/plain": [
       "{'ok': True,\n",
       " 'channel': 'GHWQ9P8GM',\n",
       " 'ts': '1555430535.001700',\n",
       " 'message': {'type': 'message',\n",
       "  'subtype': 'bot_message',\n",
       "  'text': '<https://twitter.com/h2oai/status/1117814774375440387>',\n",
       "  'ts': '1555430535.001700',\n",
       "  'username': 'Twitter Update',\n",
       "  'icons': {'image_48': 'https://s3-us-west-2.amazonaws.com/slack-files2/bot_icons/2019-04-15/608351148116_48.png'},\n",
       "  'bot_id': 'BHW8EU6G4'},\n",
       " 'headers': {'Content-Type': 'application/json; charset=utf-8',\n",
       "  'Content-Length': '276',\n",
       "  'Connection': 'keep-alive',\n",
       "  'Date': 'Tue, 16 Apr 2019 16:02:15 GMT',\n",
       "  'Server': 'Apache',\n",
       "  'X-Content-Type-Options': 'nosniff',\n",
       "  'X-Slack-Req-Id': 'f2799a77-64b1-4339-9468-e4b61d8596a9',\n",
       "  'X-OAuth-Scopes': 'identify,read,post,client,apps',\n",
       "  'Expires': 'Mon, 26 Jul 1997 05:00:00 GMT',\n",
       "  'Cache-Control': 'private, no-cache, no-store, must-revalidate',\n",
       "  'Access-Control-Expose-Headers': 'x-slack-req-id',\n",
       "  'X-XSS-Protection': '0',\n",
       "  'X-Accepted-OAuth-Scopes': 'chat:write:bot,post',\n",
       "  'Vary': 'Accept-Encoding',\n",
       "  'Pragma': 'no-cache',\n",
       "  'Access-Control-Allow-Headers': 'slack-route, x-slack-version-ts',\n",
       "  'Strict-Transport-Security': 'max-age=31536000; includeSubDomains; preload',\n",
       "  'Referrer-Policy': 'no-referrer',\n",
       "  'Content-Encoding': 'gzip',\n",
       "  'Access-Control-Allow-Origin': '*',\n",
       "  'X-Via': 'haproxy-www-snfr',\n",
       "  'X-Cache': 'Miss from cloudfront',\n",
       "  'Via': '1.1 a20436c6d109fe9002d093f519ad4399.cloudfront.net (CloudFront)',\n",
       "  'X-Amz-Cf-Id': 'JrECTtLpzmqQ6gXw1SNAhX3faJ5mrgcUC6qiktOqiiwxF_24etDJXg=='}}"
      ]
     },
     "execution_count": 40,
     "metadata": {},
     "output_type": "execute_result"
    }
   ],
   "source": [
    "sc.api_call(\n",
    "  \"chat.postMessage\",\n",
    "  channel=\"GHWQ9P8GM\",\n",
    "  username = \"Twitter Update\",\n",
    "  icon_url ='https://thumbs.dreamstime.com/z/news-cartoon-12412446.jpg',\n",
    "  text=topGCPTwitterURL\n",
    ")"
   ]
  },
  {
   "cell_type": "code",
   "execution_count": null,
   "metadata": {},
   "outputs": [],
   "source": []
  }
 ],
 "metadata": {
  "kernelspec": {
   "display_name": "Python 3",
   "language": "python",
   "name": "python3"
  },
  "language_info": {
   "codemirror_mode": {
    "name": "ipython",
    "version": 3
   },
   "file_extension": ".py",
   "mimetype": "text/x-python",
   "name": "python",
   "nbconvert_exporter": "python",
   "pygments_lexer": "ipython3",
   "version": "3.7.3"
  }
 },
 "nbformat": 4,
 "nbformat_minor": 2
}
