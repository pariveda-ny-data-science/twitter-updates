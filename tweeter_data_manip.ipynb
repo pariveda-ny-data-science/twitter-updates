{
 "cells": [
  {
   "cell_type": "code",
   "execution_count": 1,
   "metadata": {},
   "outputs": [],
   "source": [
    "import pandas as pd\n",
    "from slackclient import SlackClient\n",
    "from config import config"
   ]
  },
  {
   "cell_type": "code",
   "execution_count": 2,
   "metadata": {},
   "outputs": [],
   "source": [
    "slack = config(section='slack')"
   ]
  },
  {
   "cell_type": "code",
   "execution_count": 3,
   "metadata": {},
   "outputs": [],
   "source": [
    "sc = SlackClient(slack['token'])"
   ]
  },
  {
   "cell_type": "code",
   "execution_count": null,
   "metadata": {},
   "outputs": [],
   "source": [
    "df_azure = pd.read_csv('data_output/df_azure.csv')\n",
    "df_aws = pd.read_csv('data_output/df_aws.csv')\n",
    "df_gcp = pd.read_csv('data_output/df_gcp.csv')"
   ]
  },
  {
   "cell_type": "code",
   "execution_count": null,
   "metadata": {},
   "outputs": [],
   "source": [
    "def removeTextDuplicatesFromDataFrameAndReturnTopTweet(df):   \n",
    "    df = df.sort_values('followers_count', ascending=False)\n",
    "    df = df.drop_duplicates(subset='text', keep='first')\n",
    "    df = df.sort_values('retweet_count', ascending=False).head()\n",
    "    df = df.reset_index(drop = True)\n",
    "    return df"
   ]
  },
  {
   "cell_type": "code",
   "execution_count": null,
   "metadata": {},
   "outputs": [],
   "source": [
    "def constructTwitterLink(tweet):\n",
    "    link = 'https://twitter.com/{}/status/{}'.format(tweet['screen_name'], tweet['id'])\n",
    "    return link"
   ]
  },
  {
   "cell_type": "markdown",
   "metadata": {},
   "source": [
    "Code that I used to check if the google tweet was relevant, not needed anymore since updating twitter search\n",
    "```def checkGoogleTweet(df):\n",
    "    g = False\n",
    "    while g == False:\n",
    "        if 'Google' in df.text[0].tex or 'google' in df.text[0] or 'cloud' in df.text[0]:\n",
    "            g = True;\n",
    "        else:\n",
    "            df = df.drop(index = 0)\n",
    "            df = df.reset_index(drop = True)\n",
    "    return df```"
   ]
  },
  {
   "cell_type": "code",
   "execution_count": null,
   "metadata": {},
   "outputs": [],
   "source": [
    "top_azure_tweets = removeTextDuplicatesFromDataFrameAndReturnTopTweet(df_azure)"
   ]
  },
  {
   "cell_type": "code",
   "execution_count": null,
   "metadata": {},
   "outputs": [],
   "source": [
    "top_aws_tweets = removeTextDuplicatesFromDataFrameAndReturnTopTweet(df_aws)"
   ]
  },
  {
   "cell_type": "code",
   "execution_count": null,
   "metadata": {},
   "outputs": [],
   "source": [
    "top_gcp_tweets = removeTextDuplicatesFromDataFrameAndReturnTopTweet(df_gcp)"
   ]
  },
  {
   "cell_type": "code",
   "execution_count": null,
   "metadata": {},
   "outputs": [],
   "source": [
    "#top_gcp_tweets = checkGoogleTweet(top_gcp_tweets)"
   ]
  },
  {
   "cell_type": "code",
   "execution_count": null,
   "metadata": {},
   "outputs": [],
   "source": [
    "topAzureTwitterURL = constructTwitterLink(top_azure_tweets.loc[0])\n",
    "topAWSTwitterURL = constructTwitterLink(top_aws_tweets.loc[0])\n",
    "topGCPTwitterURL = constructTwitterLink(top_gcp_tweets.loc[0])"
   ]
  },
  {
   "cell_type": "markdown",
   "metadata": {},
   "source": [
    "https://github.com/slackapi/python-slackclient\n",
    "<br>https://api.slack.com/custom-integrations/legacy-tokens\n",
    "<br> Jonathan Reshef - id: UA4RMPMU7\n",
    "<br> ml_twitter_updates -channel id: GHWQ9P8GM\n",
    "<br> ny-twitter-bot - channel id: CHZ3VUTAQ\n",
    "<br>\n",
    "<br>API Calls:\n",
    "<br> See list of channels\n",
    "<br>sc.api_call(\n",
    "  \"channels.list\",\n",
    "  exclude_archived=True\n",
    ")\n",
    "<br> Delete messages: \n",
    "<br>sc.api_call(\n",
    "  \"chat.delete\",\n",
    "  channel=\"GHWQ9P8GM\",\n",
    "  ts='1555357902.000300'\n",
    ")\n",
    "<br>\n",
    "<br>See channel history:\n",
    "<br> sc.api_call(\n",
    "  \"conversations.history\",\n",
    "  channel=\"GHWQ9P8GM\",\n",
    ")"
   ]
  },
  {
   "cell_type": "code",
   "execution_count": null,
   "metadata": {
    "scrolled": true
   },
   "outputs": [],
   "source": [
    "sc.api_call(\n",
    "  \"chat.postMessage\",\n",
    "  username = \"Twitter Update\",\n",
    "  icon_url =\"https://thumbs.dreamstime.com/z/news-cartoon-12412446.jpg\",\n",
    "  channel=\"GHWQ9P8GM\",\n",
    "  as_user = False,\n",
    "  text=\"Here are todays updates on AWS, Azure, and GCP:\"\n",
    ")"
   ]
  },
  {
   "cell_type": "code",
   "execution_count": null,
   "metadata": {
    "scrolled": true
   },
   "outputs": [],
   "source": [
    "sc.api_call(\n",
    "  \"chat.postMessage\",\n",
    "  channel=\"GHWQ9P8GM\",\n",
    "  username = \"Twitter Update\",\n",
    "  icon_url ='https://thumbs.dreamstime.com/z/news-cartoon-12412446.jpg',\n",
    "  as_user = False,\n",
    "  text=topAWSTwitterURL\n",
    ")"
   ]
  },
  {
   "cell_type": "code",
   "execution_count": null,
   "metadata": {
    "scrolled": true
   },
   "outputs": [],
   "source": [
    "sc.api_call(\n",
    "  \"chat.postMessage\",\n",
    "  channel=\"GHWQ9P8GM\",\n",
    "  username = \"Twitter Update\",\n",
    "  icon_url ='https://thumbs.dreamstime.com/z/news-cartoon-12412446.jpg',\n",
    "  text=topAzureTwitterURL\n",
    ")"
   ]
  },
  {
   "cell_type": "code",
   "execution_count": null,
   "metadata": {
    "scrolled": true
   },
   "outputs": [],
   "source": [
    "sc.api_call(\n",
    "  \"chat.postMessage\",\n",
    "  channel=\"GHWQ9P8GM\",\n",
    "  username = \"Twitter Update\",\n",
    "  icon_url ='https://thumbs.dreamstime.com/z/news-cartoon-12412446.jpg',\n",
    "  text=topGCPTwitterURL\n",
    ")"
   ]
  },
  {
   "cell_type": "code",
   "execution_count": null,
   "metadata": {},
   "outputs": [],
   "source": []
  },
  {
   "cell_type": "code",
   "execution_count": null,
   "metadata": {},
   "outputs": [],
   "source": []
  },
  {
   "cell_type": "code",
   "execution_count": null,
   "metadata": {},
   "outputs": [],
   "source": []
  },
  {
   "cell_type": "code",
   "execution_count": null,
   "metadata": {},
   "outputs": [],
   "source": []
  }
 ],
 "metadata": {
  "kernelspec": {
   "display_name": "Python 3",
   "language": "python",
   "name": "python3"
  },
  "language_info": {
   "codemirror_mode": {
    "name": "ipython",
    "version": 3
   },
   "file_extension": ".py",
   "mimetype": "text/x-python",
   "name": "python",
   "nbconvert_exporter": "python",
   "pygments_lexer": "ipython3",
   "version": "3.7.3"
  }
 },
 "nbformat": 4,
 "nbformat_minor": 2
}
